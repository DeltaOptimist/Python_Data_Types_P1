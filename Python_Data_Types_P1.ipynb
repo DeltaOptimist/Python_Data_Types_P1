{
  "nbformat": 4,
  "nbformat_minor": 0,
  "metadata": {
    "colab": {
      "provenance": []
    },
    "kernelspec": {
      "name": "python3",
      "display_name": "Python 3"
    },
    "language_info": {
      "name": "python"
    }
  },
  "cells": [
    {
      "cell_type": "markdown",
      "source": [
        "Practical no 1: Programs based on Data Types."
      ],
      "metadata": {
        "id": "PE09Hgl5Od4s"
      }
    },
    {
      "cell_type": "markdown",
      "source": [
        "There are different types of data types in Python. Some built-in Python data types are:\n",
        "\n",
        "Numeric data types: int, float, complex\n",
        "\n",
        "String data types: str\n",
        "\n",
        "Sequence types: list, tuple, range\n",
        "\n",
        "Binary types: bytes, bytearray, memoryview\n",
        "\n",
        "Mapping data type: dict\n",
        "\n",
        "Boolean type: bool\n",
        "\n",
        "Set data types: set, frozenset"
      ],
      "metadata": {
        "id": "Ifwz7bDfOilg"
      }
    },
    {
      "cell_type": "markdown",
      "source": [
        "\n",
        "\n",
        "1. Python Numeric Data Type"
      ],
      "metadata": {
        "id": "upU40kIZOsDY"
      }
    },
    {
      "cell_type": "code",
      "execution_count": 1,
      "metadata": {
        "colab": {
          "base_uri": "https://localhost:8080/"
        },
        "id": "V-uHzYAqOHeo",
        "outputId": "501e0442-b0d9-4293-91f6-c6525f67961c"
      },
      "outputs": [
        {
          "output_type": "stream",
          "name": "stdout",
          "text": [
            "The type of variable having value 100  is  <class 'int'>\n",
            "The type of variable having value 10.2345  is  <class 'float'>\n",
            "The type of variable having value (100+3j)  is  <class 'complex'>\n"
          ]
        }
      ],
      "source": [
        "#create a variable with integer value.\n",
        "a=100\n",
        "print(\"The type of variable having value\", a, \" is \", type(a))\n",
        "\n",
        "#create a variable with float value.\n",
        "b=10.2345\n",
        "print(\"The type of variable having value\", b, \" is \", type(b))\n",
        "\n",
        "#create a variable with complex value.\n",
        "c=100+3j\n",
        "print(\"The type of variable having value\", c, \" is \", type(c))"
      ]
    },
    {
      "cell_type": "markdown",
      "source": [
        "2. Python String Data Type"
      ],
      "metadata": {
        "id": "lCo59RGTPhSG"
      }
    },
    {
      "cell_type": "code",
      "source": [
        "a = \"string in a double quote\"\n",
        "b= 'string in a single quote'\n",
        "print(a)\n",
        "print()\n",
        "print(b)\n",
        "print()\n",
        "\n",
        "# using ',' to concatenate the two or several strings\n",
        "print(a,\"concatenated with\",b)\n",
        "\n",
        "print()\n",
        "#using '+' to concate the two or several strings\n",
        "print(a+\" concated with \"+b)"
      ],
      "metadata": {
        "colab": {
          "base_uri": "https://localhost:8080/"
        },
        "id": "QHQMzrOUO7NK",
        "outputId": "c18fbe70-8499-4660-854a-7f55dfb2cc3f"
      },
      "execution_count": 3,
      "outputs": [
        {
          "output_type": "stream",
          "name": "stdout",
          "text": [
            "string in a double quote\n",
            "\n",
            "string in a single quote\n",
            "\n",
            "string in a double quote concatenated with string in a single quote\n",
            "\n",
            "string in a double quote concated with string in a single quote\n"
          ]
        }
      ]
    },
    {
      "cell_type": "markdown",
      "source": [
        "3. Python List Data Type"
      ],
      "metadata": {
        "id": "AchEYTpRP-Na"
      }
    },
    {
      "cell_type": "code",
      "source": [
        "#list of having only integers\n",
        "a= [1,2,3,4,5,6]\n",
        "print(a)\n",
        "print()\n",
        "\n",
        "#list of having only strings\n",
        "b=[\"hello\",\"john\",\"reese\"]\n",
        "print(b)\n",
        "print()\n",
        "\n",
        "#list of having both integers and strings\n",
        "c= [\"hey\",\"you\",1,2,3,\"go\"]\n",
        "print(c)\n",
        "print()\n",
        "\n",
        "#index are 0 based. this will print a single character\n",
        "print(c[1]) #this will print \"you\" in list c"
      ],
      "metadata": {
        "colab": {
          "base_uri": "https://localhost:8080/"
        },
        "id": "pbyVD-0XPmGb",
        "outputId": "5acf3b50-8dc2-409f-ff70-13fe6cf64512"
      },
      "execution_count": 4,
      "outputs": [
        {
          "output_type": "stream",
          "name": "stdout",
          "text": [
            "[1, 2, 3, 4, 5, 6]\n",
            "\n",
            "['hello', 'john', 'reese']\n",
            "\n",
            "['hey', 'you', 1, 2, 3, 'go']\n",
            "\n",
            "you\n"
          ]
        }
      ]
    },
    {
      "cell_type": "markdown",
      "source": [
        "4. Python Tuple"
      ],
      "metadata": {
        "id": "3zOXd-GHQPMM"
      }
    },
    {
      "cell_type": "code",
      "source": [
        "#tuple having only integer type of data.\n",
        "a=(1,2,3,4)\n",
        "print(a) #prints the whole tuple\n",
        "print()\n",
        "\n",
        "#tuple having multiple type of data.\n",
        "b=(\"hello\", 1,2,3,\"go\")\n",
        "print(b) #prints the whole tuple\n",
        "print()\n",
        "\n",
        "#index of tuples are also 0 based.\n",
        "print(b[4]) #this prints a single element in a tuple, in this case \"go\""
      ],
      "metadata": {
        "colab": {
          "base_uri": "https://localhost:8080/"
        },
        "id": "hCds2o1QQKxD",
        "outputId": "7bc6c43a-5282-41a0-9718-9ea943e241df"
      },
      "execution_count": 6,
      "outputs": [
        {
          "output_type": "stream",
          "name": "stdout",
          "text": [
            "(1, 2, 3, 4)\n",
            "\n",
            "('hello', 1, 2, 3, 'go')\n",
            "\n",
            "go\n"
          ]
        }
      ]
    },
    {
      "cell_type": "markdown",
      "source": [
        "5. Python Dictionary"
      ],
      "metadata": {
        "id": "Fu5s4EhJQhJ4"
      }
    },
    {
      "cell_type": "code",
      "source": [
        "#a sample dictionary variable\n",
        "\n",
        "a = {1:\"first name\",2:\"last name\", \"age\":33}\n",
        "print(a)\n",
        "print()\n",
        "\n",
        "#print value having key=1\n",
        "print(a[1])\n",
        "print()\n",
        "\n",
        "#print value having key=2\n",
        "print(a[2])\n",
        "print()\n",
        "\n",
        "#print value having key=\"age\"\n",
        "print(a[\"age\"])"
      ],
      "metadata": {
        "colab": {
          "base_uri": "https://localhost:8080/"
        },
        "id": "-OlLBw4AQT_H",
        "outputId": "bbabde7d-00d4-41b9-d340-b42e89f5de87"
      },
      "execution_count": 9,
      "outputs": [
        {
          "output_type": "stream",
          "name": "stdout",
          "text": [
            "{1: 'first name', 2: 'last name', 'age': 33}\n",
            "\n",
            "first name\n",
            "\n",
            "last name\n",
            "\n",
            "33\n"
          ]
        }
      ]
    },
    {
      "cell_type": "markdown",
      "source": [
        "6. Python Set"
      ],
      "metadata": {
        "id": "MtG1dNX6Q_mF"
      }
    },
    {
      "cell_type": "code",
      "source": [
        "a = {5,2,3,1,4}\n",
        "print(a)\n",
        "print()\n",
        "\n",
        "# printing set variable\n",
        "print(\"a = \", a)\n",
        "print()\n",
        "\n",
        "# data type of variable a\n",
        "print(\"the data type of a is :\",type(a))"
      ],
      "metadata": {
        "colab": {
          "base_uri": "https://localhost:8080/"
        },
        "id": "7n5F91UxQqUO",
        "outputId": "4747b2de-16f4-413f-9d97-2f8b278b7310"
      },
      "execution_count": 11,
      "outputs": [
        {
          "output_type": "stream",
          "name": "stdout",
          "text": [
            "{1, 2, 3, 4, 5}\n",
            "\n",
            "a =  {1, 2, 3, 4, 5}\n",
            "\n",
            "the data type of a is : <class 'set'>\n"
          ]
        }
      ]
    },
    {
      "cell_type": "markdown",
      "source": [
        "We can perform set operations like union, intersection on two sets. Sets have unique values. They eliminate duplicates."
      ],
      "metadata": {
        "id": "D_FXziEgR8Tx"
      }
    },
    {
      "cell_type": "code",
      "source": [
        "a = {1,2,2,3,3,3}\n",
        "print(a)"
      ],
      "metadata": {
        "colab": {
          "base_uri": "https://localhost:8080/"
        },
        "id": "ecEKOZvkRIUo",
        "outputId": "f8956c71-cce6-4830-adc7-356fc0c08b9f"
      },
      "execution_count": 12,
      "outputs": [
        {
          "output_type": "stream",
          "name": "stdout",
          "text": [
            "{1, 2, 3}\n"
          ]
        }
      ]
    },
    {
      "cell_type": "markdown",
      "source": [
        "Since, set are unordered collection, indexing has no meaning. Hence, the slicing operator [] does not work."
      ],
      "metadata": {
        "id": "6KJcKRjfSJTg"
      }
    },
    {
      "cell_type": "code",
      "source": [
        "a = {1,2,3}\n",
        "a[1]"
      ],
      "metadata": {
        "colab": {
          "base_uri": "https://localhost:8080/",
          "height": 182
        },
        "id": "kBVG_Xa6SCRP",
        "outputId": "89be42e8-cdbc-4258-b669-77f044ec532a"
      },
      "execution_count": 13,
      "outputs": [
        {
          "output_type": "error",
          "ename": "TypeError",
          "evalue": "ignored",
          "traceback": [
            "\u001b[0;31m---------------------------------------------------------------------------\u001b[0m",
            "\u001b[0;31mTypeError\u001b[0m                                 Traceback (most recent call last)",
            "\u001b[0;32m<ipython-input-13-dcc17a4df178>\u001b[0m in \u001b[0;36m<module>\u001b[0;34m\u001b[0m\n\u001b[1;32m      1\u001b[0m \u001b[0ma\u001b[0m \u001b[0;34m=\u001b[0m \u001b[0;34m{\u001b[0m\u001b[0;36m1\u001b[0m\u001b[0;34m,\u001b[0m\u001b[0;36m2\u001b[0m\u001b[0;34m,\u001b[0m\u001b[0;36m3\u001b[0m\u001b[0;34m}\u001b[0m\u001b[0;34m\u001b[0m\u001b[0;34m\u001b[0m\u001b[0m\n\u001b[0;32m----> 2\u001b[0;31m \u001b[0ma\u001b[0m\u001b[0;34m[\u001b[0m\u001b[0;36m1\u001b[0m\u001b[0;34m]\u001b[0m\u001b[0;34m\u001b[0m\u001b[0;34m\u001b[0m\u001b[0m\n\u001b[0m",
            "\u001b[0;31mTypeError\u001b[0m: 'set' object is not subscriptable"
          ]
        }
      ]
    },
    {
      "cell_type": "markdown",
      "source": [
        "Conversion between data types"
      ],
      "metadata": {
        "id": "XMcewumsSVgA"
      }
    },
    {
      "cell_type": "code",
      "source": [
        "float(5)"
      ],
      "metadata": {
        "colab": {
          "base_uri": "https://localhost:8080/"
        },
        "id": "8Syp6nJISM-7",
        "outputId": "c737f348-b091-41e7-c980-fbc7332f9a06"
      },
      "execution_count": 14,
      "outputs": [
        {
          "output_type": "execute_result",
          "data": {
            "text/plain": [
              "5.0"
            ]
          },
          "metadata": {},
          "execution_count": 14
        }
      ]
    },
    {
      "cell_type": "code",
      "source": [
        "int(10.6)"
      ],
      "metadata": {
        "colab": {
          "base_uri": "https://localhost:8080/"
        },
        "id": "fMUHl0y6Sawq",
        "outputId": "8b443d50-7c5c-483c-9cfc-e432d45e8724"
      },
      "execution_count": 15,
      "outputs": [
        {
          "output_type": "execute_result",
          "data": {
            "text/plain": [
              "10"
            ]
          },
          "metadata": {},
          "execution_count": 15
        }
      ]
    },
    {
      "cell_type": "code",
      "source": [
        "int(-10.6)"
      ],
      "metadata": {
        "colab": {
          "base_uri": "https://localhost:8080/"
        },
        "id": "vvu3BO_PSdMI",
        "outputId": "81ad864a-3002-4d7e-bff4-0ab9628bff1b"
      },
      "execution_count": 16,
      "outputs": [
        {
          "output_type": "execute_result",
          "data": {
            "text/plain": [
              "-10"
            ]
          },
          "metadata": {},
          "execution_count": 16
        }
      ]
    },
    {
      "cell_type": "code",
      "source": [
        "float('2.5')"
      ],
      "metadata": {
        "colab": {
          "base_uri": "https://localhost:8080/"
        },
        "id": "yyHNMP70SjON",
        "outputId": "ddff74c3-ceff-4ae6-900e-fe7e76fe55e4"
      },
      "execution_count": 17,
      "outputs": [
        {
          "output_type": "execute_result",
          "data": {
            "text/plain": [
              "2.5"
            ]
          },
          "metadata": {},
          "execution_count": 17
        }
      ]
    },
    {
      "cell_type": "code",
      "source": [
        "str(25)"
      ],
      "metadata": {
        "colab": {
          "base_uri": "https://localhost:8080/",
          "height": 36
        },
        "id": "XjOinNitSl9F",
        "outputId": "061812d6-c003-42bb-d0fd-b5a157fe8884"
      },
      "execution_count": 18,
      "outputs": [
        {
          "output_type": "execute_result",
          "data": {
            "text/plain": [
              "'25'"
            ],
            "application/vnd.google.colaboratory.intrinsic+json": {
              "type": "string"
            }
          },
          "metadata": {},
          "execution_count": 18
        }
      ]
    },
    {
      "cell_type": "code",
      "source": [
        "set([1,2,3])"
      ],
      "metadata": {
        "colab": {
          "base_uri": "https://localhost:8080/"
        },
        "id": "n8AlFdaJSoAE",
        "outputId": "20fd2193-9e6d-4533-a833-319d00769088"
      },
      "execution_count": 19,
      "outputs": [
        {
          "output_type": "execute_result",
          "data": {
            "text/plain": [
              "{1, 2, 3}"
            ]
          },
          "metadata": {},
          "execution_count": 19
        }
      ]
    },
    {
      "cell_type": "code",
      "source": [
        "tuple({5,6,7})"
      ],
      "metadata": {
        "colab": {
          "base_uri": "https://localhost:8080/"
        },
        "id": "UYxbP4EHStU0",
        "outputId": "d865877f-ea37-4620-87aa-5afe05b49cd1"
      },
      "execution_count": 20,
      "outputs": [
        {
          "output_type": "execute_result",
          "data": {
            "text/plain": [
              "(5, 6, 7)"
            ]
          },
          "metadata": {},
          "execution_count": 20
        }
      ]
    },
    {
      "cell_type": "code",
      "source": [
        "list('hello')"
      ],
      "metadata": {
        "colab": {
          "base_uri": "https://localhost:8080/"
        },
        "id": "N8lRtgWRSvxt",
        "outputId": "f10c5b05-4cfc-461e-a613-3d7b434b0f80"
      },
      "execution_count": 21,
      "outputs": [
        {
          "output_type": "execute_result",
          "data": {
            "text/plain": [
              "['h', 'e', 'l', 'l', 'o']"
            ]
          },
          "metadata": {},
          "execution_count": 21
        }
      ]
    },
    {
      "cell_type": "code",
      "source": [
        "#To convert to dictionary, each element must be a pair:\n",
        "\n",
        "dict([[1,2],[3,4]])"
      ],
      "metadata": {
        "colab": {
          "base_uri": "https://localhost:8080/"
        },
        "id": "u-Al5mDGSyKi",
        "outputId": "cfa09aa9-1f8d-4ed6-c309-ef76e5249905"
      },
      "execution_count": 24,
      "outputs": [
        {
          "output_type": "execute_result",
          "data": {
            "text/plain": [
              "{1: 2, 3: 4}"
            ]
          },
          "metadata": {},
          "execution_count": 24
        }
      ]
    },
    {
      "cell_type": "code",
      "source": [
        "dict([(3,26),(4,44)])"
      ],
      "metadata": {
        "colab": {
          "base_uri": "https://localhost:8080/"
        },
        "id": "6Q6UmUPaS88F",
        "outputId": "056cc2e6-dc95-4c80-a848-9dfdbdedebe6"
      },
      "execution_count": 23,
      "outputs": [
        {
          "output_type": "execute_result",
          "data": {
            "text/plain": [
              "{3: 26, 4: 44}"
            ]
          },
          "metadata": {},
          "execution_count": 23
        }
      ]
    },
    {
      "cell_type": "code",
      "source": [],
      "metadata": {
        "id": "0dVyzMnVTAqg"
      },
      "execution_count": null,
      "outputs": []
    }
  ]
}